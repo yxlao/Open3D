{
 "cells": [
  {
   "cell_type": "code",
   "execution_count": 1,
   "metadata": {},
   "outputs": [],
   "source": [
    "import open3d as o3d\n",
    "import torch\n",
    "import numpy as np\n",
    "import time"
   ]
  },
  {
   "cell_type": "code",
   "execution_count": 2,
   "metadata": {},
   "outputs": [
    {
     "name": "stdout",
     "output_type": "stream",
     "text": [
      "Numpy time      : 0.2905447483062744\n",
      "Open3D CPU time : 0.1992330551147461\n",
      "Open3D GPU time : 0.02828359603881836\n",
      "PyTorch CPU time: 0.02441883087158203\n",
      "PyTorch GPU time: 0.014838457107543945\n"
     ]
    }
   ],
   "source": [
    "size = 10 ** 8\n",
    "\n",
    "a = np.ones((size,))\n",
    "b = np.zeros((size,))\n",
    "\n",
    "# Numpy\n",
    "start = time.time()\n",
    "r = a + b\n",
    "print(f\"Numpy time      : {time.time() - start}\")\n",
    "\n",
    "# Open3D CPU\n",
    "o3_a = o3d.Tensor(a, device=o3d.Device(\"CPU:0\"))\n",
    "o3_b = o3d.Tensor(b, device=o3d.Device(\"CPU:0\"))\n",
    "start = time.time()\n",
    "o3_r = o3_a + o3_b\n",
    "print(f\"Open3D CPU time : {time.time() - start}\")\n",
    "\n",
    "# Open3D CUDA\n",
    "o3_a = o3d.Tensor(a, device=o3d.Device(\"CUDA:0\"))\n",
    "o3_b = o3d.Tensor(b, device=o3d.Device(\"CUDA:0\"))\n",
    "start = time.time()\n",
    "o3_r = o3_a + o3_b\n",
    "print(f\"Open3D GPU time : {time.time() - start}\")\n",
    "\n",
    "# Pytorch CPU\n",
    "th_a = torch.Tensor(a)\n",
    "th_b = torch.Tensor(b)\n",
    "start = time.time()\n",
    "th_r = th_a + th_b\n",
    "print(f\"PyTorch CPU time: {time.time() - start}\")\n",
    "\n",
    "# PyTorch GPU\n",
    "th_a = torch.Tensor(a).cuda(0)\n",
    "th_b = torch.Tensor(b).cuda(0)\n",
    "start = time.time()\n",
    "th_r = th_a + th_b\n",
    "print(f\"PyTorch GPU time: {time.time() - start}\")"
   ]
  }
 ],
 "metadata": {
  "kernelspec": {
   "display_name": "Python 3",
   "language": "python",
   "name": "python3"
  },
  "language_info": {
   "codemirror_mode": {
    "name": "ipython",
    "version": 3
   },
   "file_extension": ".py",
   "mimetype": "text/x-python",
   "name": "python",
   "nbconvert_exporter": "python",
   "pygments_lexer": "ipython3",
   "version": "3.6.10"
  }
 },
 "nbformat": 4,
 "nbformat_minor": 4
}
