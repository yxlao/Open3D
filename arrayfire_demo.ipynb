{
 "cells": [
  {
   "cell_type": "code",
   "execution_count": 1,
   "metadata": {},
   "outputs": [],
   "source": [
    "import arrayfire as af\n",
    "import numpy as np"
   ]
  },
  {
   "cell_type": "markdown",
   "metadata": {},
   "source": [
    "### Set backend"
   ]
  },
  {
   "cell_type": "code",
   "execution_count": 2,
   "metadata": {},
   "outputs": [],
   "source": [
    "af.set_backend('cpu')\n",
    "# af.set_backend('cuda')"
   ]
  },
  {
   "cell_type": "markdown",
   "metadata": {},
   "source": [
    "### a + b with broadcasting"
   ]
  },
  {
   "cell_type": "code",
   "execution_count": 3,
   "metadata": {},
   "outputs": [
    {
     "name": "stdout",
     "output_type": "stream",
     "text": [
      "(2, 3)\n",
      "(2, 1)\n",
      "(2, 3)\n"
     ]
    }
   ],
   "source": [
    "a = np.ones((2, 3))\n",
    "b = np.ones((2, 1))\n",
    "c = a + b                           # automatic broadcast\n",
    "print(a.shape)\n",
    "print(b.shape)                      # (1) is not omitted\n",
    "print(c.shape)"
   ]
  },
  {
   "cell_type": "code",
   "execution_count": 4,
   "metadata": {},
   "outputs": [
    {
     "name": "stdout",
     "output_type": "stream",
     "text": [
      "(2, 3)\n",
      "(2,)\n",
      "(2, 3)\n"
     ]
    }
   ],
   "source": [
    "a = af.constant(1, 2, 3)\n",
    "b = af.constant(1, 2, 1)\n",
    "c = af.broadcast(af.array.Array.__add__, a, b)  # does not have automatic broadcast\n",
    "print(a.shape)\n",
    "print(b.shape)                      # (1) is omitted\n",
    "print(c.shape)"
   ]
  },
  {
   "cell_type": "markdown",
   "metadata": {},
   "source": [
    "### Slicing and Indexing"
   ]
  },
  {
   "cell_type": "code",
   "execution_count": 5,
   "metadata": {},
   "outputs": [
    {
     "name": "stdout",
     "output_type": "stream",
     "text": [
      "(8, 9)\n",
      "(7, 2)\n"
     ]
    }
   ],
   "source": [
    "a = np.ones((7, 8, 9))\n",
    "print(a[1, :, :].shape)             # first dim (1) is omitted \n",
    "print(a[:, [2, 3], [2, 3]].shape)   # result shape (7, 2)"
   ]
  },
  {
   "cell_type": "code",
   "execution_count": 6,
   "metadata": {},
   "outputs": [
    {
     "name": "stdout",
     "output_type": "stream",
     "text": [
      "(1, 8, 9)\n",
      "(7, 2, 2)\n"
     ]
    }
   ],
   "source": [
    "a = af.constant(1, 7, 8, 9)\n",
    "print(a[1, :, :].shape)             # crash on cuda, first dim (1) is not omitted\n",
    "ind = af.Array([2, 3])              # crash on cuda, ind array must be af.Array, cannot be py list\n",
    "print(a[:, ind, ind].shape)         # crash on cuda, semantics different, result shape (7, 2, 2)"
   ]
  }
 ],
 "metadata": {
  "kernelspec": {
   "display_name": "Python 3",
   "language": "python",
   "name": "python3"
  },
  "language_info": {
   "codemirror_mode": {
    "name": "ipython",
    "version": 3
   },
   "file_extension": ".py",
   "mimetype": "text/x-python",
   "name": "python",
   "nbconvert_exporter": "python",
   "pygments_lexer": "ipython3",
   "version": "3.6.9"
  }
 },
 "nbformat": 4,
 "nbformat_minor": 2
}
