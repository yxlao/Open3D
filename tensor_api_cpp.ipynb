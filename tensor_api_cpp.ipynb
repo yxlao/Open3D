{
 "cells": [
  {
   "cell_type": "code",
   "execution_count": null,
   "metadata": {},
   "outputs": [],
   "source": [
    "import torch\n",
    "import torch.utils.dlpack\n",
    "import open3d as o3d\n",
    "import numpy as np"
   ]
  },
  {
   "cell_type": "markdown",
   "metadata": {},
   "source": [
    "## Tensor creation"
   ]
  },
  {
   "cell_type": "markdown",
   "metadata": {},
   "source": [
    "```cpp\n",
    "// With initial values\n",
    "Tensor a(std::vector<int>{0, 1, 2, 3, 4, 5}, // init_vals\n",
    "         {2, 3},                             // shape\n",
    "         Dtype::Int32);                      // dtype\n",
    "\n",
    "// Without initial values\n",
    "Tensor a({2, 3},                             // shape\n",
    "         Dtype::Int32);                      // dtype\n",
    "\n",
    "// Optionally, specify a device\n",
    "Tensor a({2, 3},                             // shape\n",
    "         Dtype::Int32,                       // dtype\n",
    "         Device(\"CUDA:0\"));                  // device\n",
    "```"
   ]
  },
  {
   "cell_type": "markdown",
   "metadata": {},
   "source": [
    "## Properties of a tensor"
   ]
  },
  {
   "cell_type": "markdown",
   "metadata": {},
   "source": [
    "```cpp\n",
    "Tensor a({2, 3}, Dtype::Int32, Device(\"CPU:0\"));\n",
    "SizeVector shape   = a.GetShape();\n",
    "SizeVector strides = a.GetStrides();\n",
    "Dtype dtype        = a.GetDtype();\n",
    "Device device      = a.GetDevice();\n",
    "```"
   ]
  },
  {
   "cell_type": "markdown",
   "metadata": {},
   "source": [
    "## Copy & device transfer"
   ]
  },
  {
   "cell_type": "markdown",
   "metadata": {},
   "source": [
    "```cpp\n",
    "// Host -> Device\n",
    "Tensor a({2, 3}, Dtype::Int32, Device(\"CPU:0\"));\n",
    "Tensor b = a.Copy(Device(\"CUDA:0\"));\n",
    "\n",
    "// Device -> Host\n",
    "Tensor a({2, 3}, Dtype::Int32, Device(\"CUDA:0\"));\n",
    "Tensor b = a.Copy(Device(\"CPU:0\"));\n",
    "\n",
    "// Device -> Device\n",
    "Tensor a({2, 3}, Dtype::Int32, Device(\"CUDA:0\"));\n",
    "Tensor b = a.Copy(Device(\"CUDA:1\"));\n",
    "```"
   ]
  },
  {
   "cell_type": "markdown",
   "metadata": {},
   "source": [
    "## Type casting"
   ]
  },
  {
   "cell_type": "markdown",
   "metadata": {},
   "source": [
    "```cpp\n",
    "// E.g. Float32 -> Int32\n",
    "Tensor a({2, 3}, Dtype::Float32, Device(\"CPU:0\"));\n",
    "Tensor b = a.To(Dtype::Int32)\n",
    "```"
   ]
  },
  {
   "cell_type": "markdown",
   "metadata": {},
   "source": [
    "## Numpy I/O with direct memory map"
   ]
  },
  {
   "cell_type": "markdown",
   "metadata": {},
   "source": [
    "```cpp\n",
    "// N/A in C++, see Python docs.\n",
    "```"
   ]
  },
  {
   "cell_type": "markdown",
   "metadata": {},
   "source": [
    "## PyTorch I/O with DLPack memory map"
   ]
  },
  {
   "cell_type": "markdown",
   "metadata": {},
   "source": [
    "```cpp\n",
    "// N/A in C++, see Python docs.\n",
    "```"
   ]
  },
  {
   "cell_type": "markdown",
   "metadata": {},
   "source": [
    "## Binary element-wise operation: add, sub, mul, div, ..."
   ]
  },
  {
   "cell_type": "markdown",
   "metadata": {},
   "source": [
    "```cpp\n",
    "Tensor a(std::vector<float>{1, 1, 1}, {3,}, Dtype::Float32, Device(\"CPU:0\"));\n",
    "Tensor b(std::vector<float>{2, 2, 2}, {3,}, Dtype::Float32, Device(\"CPU:0\"));\n",
    "Tensor c = a + b;\n",
    "Tensor d = a - b;\n",
    "Tensor e = a * b;\n",
    "Tensor f = a / b;\n",
    "\n",
    "// Automated broadcasting\n",
    "Tensor a({2, 3}, Dtype::Int32, Device(\"CPU:0\"));\n",
    "Tensor b({3}, Dtype::Int32, Device(\"CPU:0\"));\n",
    "Tensor c = a + b;\n",
    "```"
   ]
  },
  {
   "cell_type": "markdown",
   "metadata": {},
   "source": [
    "## Unary element-wise operation: sqrt, sin, cos, ..."
   ]
  },
  {
   "cell_type": "markdown",
   "metadata": {},
   "source": [
    "```cpp\n",
    "Tensor a(std::vector<float>{4, 9, 16}, {3,}, Dtype::Float32, Device(\"CPU:0\"));print(a.sqrt())\n",
    "Tensor b = a.Sqrt()\n",
    "Tensor c = a.Sin()\n",
    "Tensor d = a.Cos()\n",
    "```"
   ]
  },
  {
   "cell_type": "markdown",
   "metadata": {},
   "source": [
    "## Reduction: sum, prod, min, max"
   ]
  },
  {
   "cell_type": "markdown",
   "metadata": {},
   "source": [
    "```cpp\n",
    "std::vector<float> vals{0,  1,  2,  3,  4,  5,  \n",
    "                        6,  7,  8,  9,  10, 11,\n",
    "                        12, 13, 14, 15, 16, 17, \n",
    "                        18, 19, 20, 21, 22, 23};\n",
    "Tensor a(vals, {2, 3, 4}, Dtype::Float32, device);\n",
    "\n",
    "Tensor b = a.Sum()\n",
    "Tensor c = a.Prod()\n",
    "Tensor d = a.Min()\n",
    "Tensor e = a.Max()\n",
    "```"
   ]
  },
  {
   "cell_type": "markdown",
   "metadata": {},
   "source": [
    "```cpp\n",
    "// With specified dimension\n",
    "Tensor b = a.Sum({0})\n",
    "Tensor c = a.Sum({0, 2})\n",
    "Tensor c = a.Sum({0, 2}, /*keepdim*/True)\n",
    "```"
   ]
  },
  {
   "cell_type": "markdown",
   "metadata": {},
   "source": [
    "## Slicing, indexing, getitem (returns a view), and setitem"
   ]
  },
  {
   "cell_type": "markdown",
   "metadata": {},
   "source": [
    "```cpp\n",
    "std::vector<float> vals{0,  1,  2,  3,  4,  5,  \n",
    "                        6,  7,  8,  9,  10, 11,\n",
    "                        12, 13, 14, 15, 16, 17, \n",
    "                        18, 19, 20, 21, 22, 23};\n",
    "Tensor a(vals, {2, 3, 4}, Dtype::Float32, device);\n",
    "\n",
    "// Slicing __getitem__\n",
    "// a[1:]\n",
    "Tensor b = a.IndexGet(TensorKey::Slice(1, None, None))\n",
    "\n",
    "// Indexing __getitem__\n",
    "// a[1, 2]\n",
    "Tensor c = a.IndexGet({TensorKey::Index(1), TensorKey::Index(2)})\n",
    "\n",
    "// Combined __getitem__\n",
    "// a[:-1, 0:3:2, 2]\n",
    "Tensor d = a.IndexGet({TensorKey::Slice(None, None, -1), \n",
    "                       TensorKey::Slice(0, 3, 2),\n",
    "                       TensorKey::Index(2)})\n",
    "```"
   ]
  },
  {
   "cell_type": "markdown",
   "metadata": {},
   "source": [
    "```cpp\n",
    "// a[:, :, 2] = val\n",
    "Tensor val(std::vector<float>{100}, {}, Dtype::Float32, device);\n",
    "a.IndexGet({TensorKey::Slice(None, None, None), \n",
    "            TensorKey::Slice(None, None, None),\n",
    "            TensorKey::Index(2)}) = val;\n",
    "```"
   ]
  },
  {
   "cell_type": "markdown",
   "metadata": {},
   "source": [
    "## Advanced indexing"
   ]
  },
  {
   "cell_type": "markdown",
   "metadata": {},
   "source": [
    "```cpp\n",
    "std::vector<float> vals{0,  1,  2,  3,  4,  5,  \n",
    "                        6,  7,  8,  9,  10, 11,\n",
    "                        12, 13, 14, 15, 16, 17, \n",
    "                        18, 19, 20, 21, 22, 23};\n",
    "Tensor a(vals, {2, 3, 4}, Dtype::Float32, device);\n",
    "\n",
    "// a[:, [1, 2], [1, 2]]\n",
    "std::vector<Tensor> indices = {\n",
    "        Tensor(SizeVector(), Dtype::Int64, device),\n",
    "        Tensor(std::vector<int64_t>({1, 2}), {2}, Dtype::Int64, device),\n",
    "        Tensor(std::vector<int64_t>({1, 2}), {2}, Dtype::Int64, device)};\n",
    "Tensor b = a.IndexGet(indices);\n",
    "\n",
    "\n",
    "// a[:. [1, 2], [1, 2]] = value\n",
    "a.IndexSet(indices, value);\n",
    "```"
   ]
  }
 ],
 "metadata": {
  "kernelspec": {
   "display_name": "Python 3",
   "language": "python",
   "name": "python3"
  },
  "language_info": {
   "codemirror_mode": {
    "name": "ipython",
    "version": 3
   },
   "file_extension": ".py",
   "mimetype": "text/x-python",
   "name": "python",
   "nbconvert_exporter": "python",
   "pygments_lexer": "ipython3",
   "version": "3.6.10"
  }
 },
 "nbformat": 4,
 "nbformat_minor": 4
}
