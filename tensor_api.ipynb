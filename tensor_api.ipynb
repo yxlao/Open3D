{
 "cells": [
  {
   "cell_type": "code",
   "execution_count": 23,
   "metadata": {},
   "outputs": [],
   "source": [
    "import torch\n",
    "import torch.utils.dlpack\n",
    "import open3d as o3d\n",
    "import numpy as np"
   ]
  },
  {
   "cell_type": "markdown",
   "metadata": {},
   "source": [
    "## Tensor creation"
   ]
  },
  {
   "cell_type": "code",
   "execution_count": 2,
   "metadata": {},
   "outputs": [
    {
     "name": "stdout",
     "output_type": "stream",
     "text": [
      "[0 1 2]\n",
      "Tensor[shape={3}, stride={1}, Int64, CPU:0, 0x555edab0e130]\n",
      "[0 1 2]\n",
      "Tensor[shape={3}, stride={1}, Float64, CPU:0, 0x555edab0e6a0]\n",
      "[0 1 2]\n",
      "Tensor[shape={3}, stride={1}, Int64, CPU:0, 0x555edab0e7a0]\n",
      "[0 1 2]\n",
      "Tensor[shape={3}, stride={1}, Float64, CPU:0, 0x555edab0e880]\n",
      "[0 1 2]\n",
      "Tensor[shape={3}, stride={1}, Int64, CUDA:0, 0x7f2eaf200000]\n"
     ]
    }
   ],
   "source": [
    "# From list\n",
    "a = o3d.Tensor([0, 1, 2])\n",
    "print(a)\n",
    "\n",
    "# Dtype inferred from list\n",
    "a_float = o3d.Tensor([0.0, 1.0, 2.0])\n",
    "print(a_float)\n",
    "\n",
    "# From Numpy\n",
    "a = o3d.Tensor(np.array([0, 1, 2]))\n",
    "print(a)\n",
    "\n",
    "# Specify dtype\n",
    "a = o3d.Tensor(np.array([0, 1, 2]), dtype=o3d.Dtype.Float64)\n",
    "print(a)\n",
    "\n",
    "# Specify device\n",
    "# Specify dtype\n",
    "a = o3d.Tensor(np.array([0, 1, 2]), device=o3d.Device(\"CUDA:0\"))\n",
    "print(a)"
   ]
  },
  {
   "cell_type": "markdown",
   "metadata": {},
   "source": [
    "## Properties of a tensor"
   ]
  },
  {
   "cell_type": "code",
   "execution_count": 3,
   "metadata": {},
   "outputs": [
    {
     "name": "stdout",
     "output_type": "stream",
     "text": [
      "a.shape: {2, 3, 4}\n",
      "a.strides: {12, 4, 1}\n",
      "a.dtype: Dtype.Float64\n",
      "a.device: CUDA:0\n",
      "a.ndim: 3\n"
     ]
    }
   ],
   "source": [
    "vals = np.array((range(24))).reshape(2, 3, 4)\n",
    "a = o3d.Tensor(np.array(vals), \n",
    "               dtype=o3d.Dtype.Float64,\n",
    "               device=o3d.Device(\"CUDA:0\"))\n",
    "print(f\"a.shape: {a.shape}\")\n",
    "print(f\"a.strides: {a.strides}\")\n",
    "print(f\"a.dtype: {a.dtype}\")\n",
    "print(f\"a.device: {a.device}\")\n",
    "print(f\"a.ndim: {a.ndim}\")"
   ]
  },
  {
   "cell_type": "markdown",
   "metadata": {},
   "source": [
    "## Copy & device transfer"
   ]
  },
  {
   "cell_type": "code",
   "execution_count": 4,
   "metadata": {},
   "outputs": [
    {
     "name": "stdout",
     "output_type": "stream",
     "text": [
      "[0 1 2]\n",
      "Tensor[shape={3}, stride={1}, Int64, CUDA:0, 0x7f2eaf200000]\n",
      "[0 1 2]\n",
      "Tensor[shape={3}, stride={1}, Int64, CPU:0, 0x555edb601b80]\n",
      "[0 1 2]\n",
      "Tensor[shape={3}, stride={1}, Int64, CUDA:1, 0x7f2e9f200000]\n"
     ]
    }
   ],
   "source": [
    "# Host -> Device\n",
    "a_cpu = o3d.Tensor([0, 1, 2])\n",
    "a_gpu = a_cpu.cuda(0)\n",
    "print(a_gpu)\n",
    "\n",
    "# Device -> Device\n",
    "a_gpu = o3d.Tensor([0, 1, 2], device=o3d.Device(\"CUDA:0\"))\n",
    "a_cpu = a_gpu.cpu()\n",
    "print(a_cpu)\n",
    "\n",
    "# Device -> Host\n",
    "a_gpu_0 = o3d.Tensor([0, 1, 2], device=o3d.Device(\"CUDA:0\"))\n",
    "a_gpu_1 = a_gpu_0.cuda(1)\n",
    "print(a_gpu_1)"
   ]
  },
  {
   "cell_type": "markdown",
   "metadata": {},
   "source": [
    "## Type casting"
   ]
  },
  {
   "cell_type": "code",
   "execution_count": 5,
   "metadata": {},
   "outputs": [
    {
     "name": "stdout",
     "output_type": "stream",
     "text": [
      "[0.1 1.5 2.7]\n",
      "Tensor[shape={3}, stride={1}, Float64, CPU:0, 0x555edb8b2b50]\n",
      "[0 1 2]\n",
      "Tensor[shape={3}, stride={1}, Int32, CPU:0, 0x555edb806fb0]\n"
     ]
    }
   ],
   "source": [
    "# E.g. float -> int\n",
    "a = o3d.Tensor([0.1, 1.5, 2.7])\n",
    "b = a.to(o3d.Dtype.Int32)\n",
    "print(a)\n",
    "print(b)"
   ]
  },
  {
   "cell_type": "markdown",
   "metadata": {},
   "source": [
    "## Numpy I/O with direct memory map"
   ]
  },
  {
   "cell_type": "code",
   "execution_count": 13,
   "metadata": {},
   "outputs": [
    {
     "name": "stdout",
     "output_type": "stream",
     "text": [
      "[100 200   1   1   1]\n",
      "[100 200 1 1 1]\n",
      "Tensor[shape={5}, stride={1}, Int32, CPU:0, 0x555edb5fe6e0]\n"
     ]
    }
   ],
   "source": [
    "# From numpy\n",
    "np_a = np.ones((5,), dtype=np.int32)\n",
    "o3_a = o3d.Tensor.from_numpy(np_a)\n",
    "\n",
    "# Changes to numpy array reflects on open3d Tensor and vice versa\n",
    "np_a[0] = 100\n",
    "o3_a[1] = 200\n",
    "print(np_a)\n",
    "print(o3_a)"
   ]
  },
  {
   "cell_type": "code",
   "execution_count": 28,
   "metadata": {},
   "outputs": [
    {
     "name": "stdout",
     "output_type": "stream",
     "text": [
      "np_a: [100 200   1   1   1]\n",
      "o3_a: [100 200 1 1 1]\n",
      "Tensor[shape={5}, stride={1}, Int32, CPU:0, 0x555edb4fa000]\n",
      "\n",
      "o3_a.cpu().numpy(): [1 1 1 1 1]\n"
     ]
    }
   ],
   "source": [
    "# To numpy\n",
    "o3_a = o3d.Tensor([1, 1, 1, 1, 1], dtype=o3d.Dtype.Int32)\n",
    "np_a = o3_a.numpy()\n",
    "\n",
    "# Changes to numpy array reflects on open3d Tensor and vice versa\n",
    "np_a[0] = 100\n",
    "o3_a[1] = 200\n",
    "print(f\"np_a: {np_a}\")\n",
    "print(f\"o3_a: {o3_a}\")\n",
    "\n",
    "# For CUDA Tensor, call cpu() before calling numpy()\n",
    "o3_a = o3d.Tensor([1, 1, 1, 1, 1], device=o3d.Device(\"CUDA:0\"))\n",
    "print(f\"o3_a.cpu().numpy(): {o3_a.cpu().numpy()}\")"
   ]
  },
  {
   "cell_type": "markdown",
   "metadata": {},
   "source": [
    "## PyTorch I/O with DLPack memory map"
   ]
  },
  {
   "cell_type": "code",
   "execution_count": 27,
   "metadata": {},
   "outputs": [
    {
     "name": "stdout",
     "output_type": "stream",
     "text": [
      "th_a: tensor([1., 1., 1., 1., 1.])\n",
      "o3_a: [1 1 1 1 1]\n",
      "Tensor[shape={5}, stride={1}, Float32, CPU:0, 0x555edb4fb280]\n",
      "\n"
     ]
    }
   ],
   "source": [
    "# From PyTorch\n",
    "th_a = torch.ones((5,))\n",
    "o3_a = o3d.Tensor.from_dlpack(torch.utils.dlpack.to_dlpack(th_a))\n",
    "print(f\"th_a: {th_a}\")\n",
    "print(f\"o3_a: {o3_a}\")\n",
    "print(\"\")\n",
    "\n",
    "# Changes to PyTorch array reflects on open3d Tensor and vice versa"
   ]
  },
  {
   "cell_type": "markdown",
   "metadata": {},
   "source": [
    "## "
   ]
  },
  {
   "cell_type": "markdown",
   "metadata": {},
   "source": [
    "## "
   ]
  },
  {
   "cell_type": "markdown",
   "metadata": {},
   "source": [
    "## "
   ]
  },
  {
   "cell_type": "markdown",
   "metadata": {},
   "source": [
    "## "
   ]
  },
  {
   "cell_type": "code",
   "execution_count": null,
   "metadata": {},
   "outputs": [],
   "source": []
  },
  {
   "cell_type": "code",
   "execution_count": null,
   "metadata": {},
   "outputs": [],
   "source": []
  },
  {
   "cell_type": "code",
   "execution_count": null,
   "metadata": {},
   "outputs": [],
   "source": []
  },
  {
   "cell_type": "code",
   "execution_count": 7,
   "metadata": {},
   "outputs": [],
   "source": [
    "## "
   ]
  },
  {
   "cell_type": "code",
   "execution_count": null,
   "metadata": {},
   "outputs": [],
   "source": []
  }
 ],
 "metadata": {
  "kernelspec": {
   "display_name": "Python 3",
   "language": "python",
   "name": "python3"
  },
  "language_info": {
   "codemirror_mode": {
    "name": "ipython",
    "version": 3
   },
   "file_extension": ".py",
   "mimetype": "text/x-python",
   "name": "python",
   "nbconvert_exporter": "python",
   "pygments_lexer": "ipython3",
   "version": "3.6.10"
  }
 },
 "nbformat": 4,
 "nbformat_minor": 4
}
