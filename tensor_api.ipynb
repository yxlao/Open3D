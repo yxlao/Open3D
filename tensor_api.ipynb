{
 "cells": [
  {
   "cell_type": "code",
   "execution_count": null,
   "metadata": {},
   "outputs": [],
   "source": [
    "import torch\n",
    "import torch.utils.dlpack\n",
    "import open3d as o3d\n",
    "import numpy as np"
   ]
  },
  {
   "cell_type": "markdown",
   "metadata": {},
   "source": [
    "## Tensor creation"
   ]
  },
  {
   "cell_type": "code",
   "execution_count": null,
   "metadata": {},
   "outputs": [],
   "source": [
    "# From list\n",
    "a = o3d.Tensor([0, 1, 2])\n",
    "print(a)\n",
    "\n",
    "# Dtype inferred from list\n",
    "a_float = o3d.Tensor([0.0, 1.0, 2.0])\n",
    "print(a_float)\n",
    "\n",
    "# From Numpy\n",
    "a = o3d.Tensor(np.array([0, 1, 2]))\n",
    "print(a)\n",
    "\n",
    "# Specify dtype\n",
    "a = o3d.Tensor(np.array([0, 1, 2]), dtype=o3d.Dtype.Float64)\n",
    "print(a)\n",
    "\n",
    "# Specify device\n",
    "# Specify dtype\n",
    "a = o3d.Tensor(np.array([0, 1, 2]), device=o3d.Device(\"CUDA:0\"))\n",
    "print(a)"
   ]
  },
  {
   "cell_type": "markdown",
   "metadata": {},
   "source": [
    "## Properties of a tensor"
   ]
  },
  {
   "cell_type": "code",
   "execution_count": null,
   "metadata": {},
   "outputs": [],
   "source": [
    "vals = np.array((range(24))).reshape(2, 3, 4)\n",
    "a = o3d.Tensor(np.array(vals), \n",
    "               dtype=o3d.Dtype.Float64,\n",
    "               device=o3d.Device(\"CUDA:0\"))\n",
    "print(f\"a.shape: {a.shape}\")\n",
    "print(f\"a.strides: {a.strides}\")\n",
    "print(f\"a.dtype: {a.dtype}\")\n",
    "print(f\"a.device: {a.device}\")\n",
    "print(f\"a.ndim: {a.ndim}\")"
   ]
  },
  {
   "cell_type": "markdown",
   "metadata": {},
   "source": [
    "## Copy & device transfer"
   ]
  },
  {
   "cell_type": "code",
   "execution_count": null,
   "metadata": {},
   "outputs": [],
   "source": [
    "# Host -> Device\n",
    "a_cpu = o3d.Tensor([0, 1, 2])\n",
    "a_gpu = a_cpu.cuda(0)\n",
    "print(a_gpu)\n",
    "\n",
    "# Device -> Device\n",
    "a_gpu = o3d.Tensor([0, 1, 2], device=o3d.Device(\"CUDA:0\"))\n",
    "a_cpu = a_gpu.cpu()\n",
    "print(a_cpu)\n",
    "\n",
    "# Device -> Host\n",
    "a_gpu_0 = o3d.Tensor([0, 1, 2], device=o3d.Device(\"CUDA:0\"))\n",
    "a_gpu_1 = a_gpu_0.cuda(1)\n",
    "print(a_gpu_1)"
   ]
  },
  {
   "cell_type": "markdown",
   "metadata": {},
   "source": [
    "## Type casting"
   ]
  },
  {
   "cell_type": "code",
   "execution_count": null,
   "metadata": {},
   "outputs": [],
   "source": [
    "# E.g. float -> int\n",
    "a = o3d.Tensor([0.1, 1.5, 2.7])\n",
    "b = a.to(o3d.Dtype.Int32)\n",
    "print(a)\n",
    "print(b)"
   ]
  },
  {
   "cell_type": "markdown",
   "metadata": {},
   "source": [
    "## Numpy I/O with direct memory map"
   ]
  },
  {
   "cell_type": "code",
   "execution_count": null,
   "metadata": {},
   "outputs": [],
   "source": [
    "# From numpy\n",
    "np_a = np.ones((5,), dtype=np.int32)\n",
    "o3_a = o3d.Tensor.from_numpy(np_a)\n",
    "print(f\"np_a: {np_a}\")\n",
    "print(f\"o3_a: {o3_a}\")\n",
    "print(\"\")\n",
    "\n",
    "# Changes to numpy array reflects on open3d Tensor and vice versa\n",
    "np_a[0] = 100\n",
    "o3_a[1] = 200\n",
    "print(f\"np_a: {np_a}\")\n",
    "print(f\"o3_a: {o3_a}\")"
   ]
  },
  {
   "cell_type": "code",
   "execution_count": null,
   "metadata": {},
   "outputs": [],
   "source": [
    "# To numpy\n",
    "o3_a = o3d.Tensor([1, 1, 1, 1, 1], dtype=o3d.Dtype.Int32)\n",
    "np_a = o3_a.numpy()\n",
    "\n",
    "# Changes to numpy array reflects on open3d Tensor and vice versa\n",
    "np_a[0] = 100\n",
    "o3_a[1] = 200\n",
    "print(f\"np_a: {np_a}\")\n",
    "print(f\"o3_a: {o3_a}\")\n",
    "\n",
    "# For CUDA Tensor, call cpu() before calling numpy()\n",
    "o3_a = o3d.Tensor([1, 1, 1, 1, 1], device=o3d.Device(\"CUDA:0\"))\n",
    "print(f\"\\no3_a.cpu().numpy(): {o3_a.cpu().numpy()}\")"
   ]
  },
  {
   "cell_type": "markdown",
   "metadata": {},
   "source": [
    "## PyTorch I/O with DLPack memory map"
   ]
  },
  {
   "cell_type": "code",
   "execution_count": null,
   "metadata": {},
   "outputs": [],
   "source": [
    "# From PyTorch\n",
    "th_a = torch.ones((5,)).cuda(0)\n",
    "o3_a = o3d.Tensor.from_dlpack(torch.utils.dlpack.to_dlpack(th_a))\n",
    "print(f\"th_a: {th_a}\")\n",
    "print(f\"o3_a: {o3_a}\")\n",
    "print(\"\")\n",
    "\n",
    "# Changes to PyTorch array reflects on open3d Tensor and vice versa\n",
    "th_a[0] = 100\n",
    "o3_a[1] = 200\n",
    "print(f\"th_a: {th_a}\")\n",
    "print(f\"o3_a: {o3_a}\")"
   ]
  },
  {
   "cell_type": "code",
   "execution_count": null,
   "metadata": {},
   "outputs": [],
   "source": [
    "# To PyTorch\n",
    "o3_a = o3d.Tensor([1, 1, 1, 1, 1], device=o3d.Device(\"CUDA:0\"))\n",
    "th_a = torch.utils.dlpack.from_dlpack(o3_a.to_dlpack())\n",
    "o3_a = o3d.Tensor.from_dlpack(torch.utils.dlpack.to_dlpack(th_a))\n",
    "print(f\"th_a: {th_a}\")\n",
    "print(f\"o3_a: {o3_a}\")\n",
    "print(\"\")\n",
    "\n",
    "# Changes to PyTorch array reflects on open3d Tensor and vice versa\n",
    "th_a[0] = 100\n",
    "o3_a[1] = 200\n",
    "print(f\"th_a: {th_a}\")\n",
    "print(f\"o3_a: {o3_a}\")"
   ]
  },
  {
   "cell_type": "markdown",
   "metadata": {},
   "source": [
    "## Binary element-wise operation: add, sub, mul, div, ..."
   ]
  },
  {
   "cell_type": "code",
   "execution_count": null,
   "metadata": {},
   "outputs": [],
   "source": [
    "a = o3d.Tensor([1, 1, 1], dtype=o3d.Dtype.Float32)\n",
    "b = o3d.Tensor([2, 2, 2], dtype=o3d.Dtype.Float32)\n",
    "print(a + b)\n",
    "print(a - b)\n",
    "print(a * b)\n",
    "print(a / b)\n",
    "print(\"\")\n",
    "\n",
    "# Automated broadcasting\n",
    "a = o3d.Tensor(np.ones((2, 3)), dtype=o3d.Dtype.Float32)\n",
    "b = o3d.Tensor(np.ones((3,)), dtype=o3d.Dtype.Float32)\n",
    "print(a + b)"
   ]
  },
  {
   "cell_type": "markdown",
   "metadata": {},
   "source": [
    "## Unary element-wise operation: sqrt, sin, cos, ..."
   ]
  },
  {
   "cell_type": "code",
   "execution_count": null,
   "metadata": {},
   "outputs": [],
   "source": [
    "a = o3d.Tensor([4, 9, 16], dtype=o3d.Dtype.Float32)\n",
    "print(a.sqrt())\n",
    "print(a.sin())\n",
    "print(a.cos())"
   ]
  },
  {
   "cell_type": "markdown",
   "metadata": {},
   "source": [
    "## Reduction: sum, prod, min, max"
   ]
  },
  {
   "cell_type": "code",
   "execution_count": null,
   "metadata": {},
   "outputs": [],
   "source": [
    "vals = np.array(range(24)).reshape((2, 3, 4))\n",
    "a = o3d.Tensor(vals)\n",
    "print(a.sum())\n",
    "print(a.prod())\n",
    "print(a.min())\n",
    "print(a.max())"
   ]
  },
  {
   "cell_type": "code",
   "execution_count": null,
   "metadata": {},
   "outputs": [],
   "source": [
    "# With specified dimension\n",
    "vals = np.array(range(24)).reshape((2, 3, 4))\n",
    "a = o3d.Tensor(vals)\n",
    "\n",
    "print(a.sum(dim=(0)), \"\\n\")\n",
    "print(a.sum(dim=(0, 2)), \"\\n\")\n",
    "print(a.sum(dim=(0, 2), keepdim=True))"
   ]
  },
  {
   "cell_type": "markdown",
   "metadata": {},
   "source": [
    "## Slicing, indexing, getitem (returns a view), and setitem"
   ]
  },
  {
   "cell_type": "code",
   "execution_count": null,
   "metadata": {},
   "outputs": [],
   "source": [
    "vals = np.array(range(24)).reshape((2, 3, 4))\n",
    "a = o3d.Tensor(vals)\n",
    "\n",
    "# Slicing __getitem__\n",
    "print(a[1:], \"\\n\")\n",
    "\n",
    "# Indexing __getitem__\n",
    "print(a[1, 2], \"\\n\")\n",
    "\n",
    "# Combined __getitem__\n",
    "print(a[:-1, 0:3:2, 2])"
   ]
  },
  {
   "cell_type": "code",
   "execution_count": null,
   "metadata": {},
   "outputs": [],
   "source": [
    "# Example __setitem__\n",
    "print(a, \"\\n\")\n",
    "a[:, :, 2] = 100\n",
    "print(a)"
   ]
  },
  {
   "cell_type": "markdown",
   "metadata": {},
   "source": [
    "## Advanced indexing"
   ]
  },
  {
   "cell_type": "code",
   "execution_count": null,
   "metadata": {},
   "outputs": [],
   "source": [
    "# Pybind not done yet, see C++ docs"
   ]
  }
 ],
 "metadata": {
  "kernelspec": {
   "display_name": "Python 3",
   "language": "python",
   "name": "python3"
  },
  "language_info": {
   "codemirror_mode": {
    "name": "ipython",
    "version": 3
   },
   "file_extension": ".py",
   "mimetype": "text/x-python",
   "name": "python",
   "nbconvert_exporter": "python",
   "pygments_lexer": "ipython3",
   "version": "3.6.10"
  }
 },
 "nbformat": 4,
 "nbformat_minor": 4
}
